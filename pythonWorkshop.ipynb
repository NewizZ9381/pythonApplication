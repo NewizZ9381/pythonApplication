{
 "cells": [
  {
   "cell_type": "markdown",
   "metadata": {},
   "source": [
    "# Python Workshop"
   ]
  },
  {
   "cell_type": "markdown",
   "metadata": {},
   "source": [
    "## 1. API Bitcoin"
   ]
  },
  {
   "cell_type": "code",
   "execution_count": 5,
   "metadata": {
    "scrolled": false
   },
   "outputs": [
    {
     "ename": "KeyError",
     "evalue": "0",
     "output_type": "error",
     "traceback": [
      "\u001b[1;31m---------------------------------------------------------------------------\u001b[0m",
      "\u001b[1;31mKeyError\u001b[0m                                  Traceback (most recent call last)",
      "\u001b[1;32m<ipython-input-5-d069b41d7add>\u001b[0m in \u001b[0;36m<module>\u001b[1;34m\u001b[0m\n\u001b[0;32m      2\u001b[0m \u001b[0mres\u001b[0m \u001b[1;33m=\u001b[0m \u001b[0mrequests\u001b[0m\u001b[1;33m.\u001b[0m\u001b[0mget\u001b[0m\u001b[1;33m(\u001b[0m\u001b[1;34m'https://pro-api.coinmarketcap.com/v1/cryptocurrency/listings/latest?start=1&limit=5000&convert=USD'\u001b[0m\u001b[1;33m)\u001b[0m\u001b[1;33m\u001b[0m\u001b[1;33m\u001b[0m\u001b[0m\n\u001b[0;32m      3\u001b[0m \u001b[0mdata\u001b[0m\u001b[1;33m=\u001b[0m\u001b[0mres\u001b[0m\u001b[1;33m.\u001b[0m\u001b[0mjson\u001b[0m\u001b[1;33m(\u001b[0m\u001b[1;33m)\u001b[0m\u001b[1;33m\u001b[0m\u001b[1;33m\u001b[0m\u001b[0m\n\u001b[1;32m----> 4\u001b[1;33m \u001b[0mprint\u001b[0m\u001b[1;33m(\u001b[0m\u001b[1;34m\"1 \"\u001b[0m\u001b[1;33m+\u001b[0m\u001b[0mdata\u001b[0m\u001b[1;33m[\u001b[0m\u001b[1;36m0\u001b[0m\u001b[1;33m]\u001b[0m\u001b[1;33m[\u001b[0m\u001b[1;34m'symbol'\u001b[0m\u001b[1;33m]\u001b[0m\u001b[1;33m+\u001b[0m\u001b[1;34m\" = \"\u001b[0m\u001b[1;33m+\u001b[0m\u001b[0mdata\u001b[0m\u001b[1;33m[\u001b[0m\u001b[1;36m0\u001b[0m\u001b[1;33m]\u001b[0m\u001b[1;33m[\u001b[0m\u001b[1;34m'price_usd'\u001b[0m\u001b[1;33m]\u001b[0m\u001b[1;33m)\u001b[0m\u001b[1;33m\u001b[0m\u001b[1;33m\u001b[0m\u001b[0m\n\u001b[0m\u001b[0;32m      5\u001b[0m \u001b[0mthb\u001b[0m\u001b[1;33m=\u001b[0m\u001b[1;36m32.76\u001b[0m\u001b[1;33m*\u001b[0m\u001b[0mfloat\u001b[0m\u001b[1;33m(\u001b[0m\u001b[0mdata\u001b[0m\u001b[1;33m[\u001b[0m\u001b[1;36m0\u001b[0m\u001b[1;33m]\u001b[0m\u001b[1;33m[\u001b[0m\u001b[1;34m'price_usd'\u001b[0m\u001b[1;33m]\u001b[0m\u001b[1;33m)\u001b[0m\u001b[1;33m\u001b[0m\u001b[1;33m\u001b[0m\u001b[0m\n\u001b[0;32m      6\u001b[0m \u001b[0mprint\u001b[0m\u001b[1;33m(\u001b[0m\u001b[1;34m\"แปลงเงินไทย = \"\u001b[0m\u001b[1;33m+\u001b[0m\u001b[0mstr\u001b[0m\u001b[1;33m(\u001b[0m\u001b[0mthb\u001b[0m\u001b[1;33m)\u001b[0m\u001b[1;33m)\u001b[0m\u001b[1;33m\u001b[0m\u001b[1;33m\u001b[0m\u001b[0m\n",
      "\u001b[1;31mKeyError\u001b[0m: 0"
     ]
    }
   ],
   "source": [
    "import requests\n",
    "res = requests.get('https://api.coinmarketcap.com/v1/ticker/bitcoin/')\n",
    "data=res.json()\n",
    "print(\"1 \"+data[0]['symbol']+\" = \"+data[0]['price_usd'])\n",
    "thb=32.76*float(data[0]['price_usd'])\n",
    "print(\"แปลงเงินไทย = \"+str(thb))"
   ]
  },
  {
   "cell_type": "code",
   "execution_count": null,
   "metadata": {},
   "outputs": [],
   "source": [
    "#API key : 63a73ecf-fe78-4b29-ae9d-d7ae01316db6\n",
    "#https://coinmarketcap.com/api/documentation/v1/#section/Quick-Start-Guide\n",
    "#User : NewizZ"
   ]
  },
  {
   "cell_type": "code",
   "execution_count": 6,
   "metadata": {},
   "outputs": [
    {
     "name": "stdout",
     "output_type": "stream",
     "text": [
      "{'status': {'timestamp': '2020-04-09T05:09:45.080Z', 'error_code': 0, 'error_message': None, 'elapsed': 12, 'credit_count': 1, 'notice': None}, 'data': [{'id': 1, 'name': 'Bitcoin', 'symbol': 'BTC', 'slug': 'bitcoin', 'num_market_pairs': 7689, 'date_added': '2013-04-28T00:00:00.000Z', 'tags': ['mineable'], 'max_supply': 21000000, 'circulating_supply': 18313600, 'total_supply': 18313600, 'platform': None, 'cmc_rank': 1, 'last_updated': '2020-04-09T05:08:39.000Z', 'quote': {'USD': {'price': 7296.91686707, 'volume_24h': 35665025125.8632, 'percent_change_1h': 0.233369, 'percent_change_24h': -0.334477, 'percent_change_7d': 10.1553, 'market_cap': 133632816736.77315, 'last_updated': '2020-04-09T05:08:39.000Z'}}}]}\n"
     ]
    }
   ],
   "source": [
    "from requests import Request, Session\n",
    "from requests.exceptions import ConnectionError, Timeout, TooManyRedirects\n",
    "import json\n",
    "\n",
    "url = 'https://pro-api.coinmarketcap.com/v1/cryptocurrency/listings/latest'\n",
    "parameters = {\n",
    "  'start':'1',\n",
    "  'limit':'1',\n",
    "  'convert':'USD'\n",
    "}\n",
    "headers = {\n",
    "  'Accepts': 'application/json',\n",
    "  'X-CMC_PRO_API_KEY': '63a73ecf-fe78-4b29-ae9d-d7ae01316db6',\n",
    "}\n",
    "\n",
    "session = Session()\n",
    "session.headers.update(headers)\n",
    "\n",
    "try:\n",
    "  response = session.get(url, params=parameters)\n",
    "  data = json.loads(response.text)\n",
    "  print(data)\n",
    "except (ConnectionError, Timeout, TooManyRedirects) as e:\n",
    "  print(e)"
   ]
  },
  {
   "cell_type": "code",
   "execution_count": 8,
   "metadata": {
    "scrolled": true
   },
   "outputs": [
    {
     "data": {
      "text/plain": [
       "{'status': {'timestamp': '2020-04-09T05:09:45.080Z',\n",
       "  'error_code': 0,\n",
       "  'error_message': None,\n",
       "  'elapsed': 12,\n",
       "  'credit_count': 1,\n",
       "  'notice': None},\n",
       " 'data': [{'id': 1,\n",
       "   'name': 'Bitcoin',\n",
       "   'symbol': 'BTC',\n",
       "   'slug': 'bitcoin',\n",
       "   'num_market_pairs': 7689,\n",
       "   'date_added': '2013-04-28T00:00:00.000Z',\n",
       "   'tags': ['mineable'],\n",
       "   'max_supply': 21000000,\n",
       "   'circulating_supply': 18313600,\n",
       "   'total_supply': 18313600,\n",
       "   'platform': None,\n",
       "   'cmc_rank': 1,\n",
       "   'last_updated': '2020-04-09T05:08:39.000Z',\n",
       "   'quote': {'USD': {'price': 7296.91686707,\n",
       "     'volume_24h': 35665025125.8632,\n",
       "     'percent_change_1h': 0.233369,\n",
       "     'percent_change_24h': -0.334477,\n",
       "     'percent_change_7d': 10.1553,\n",
       "     'market_cap': 133632816736.77315,\n",
       "     'last_updated': '2020-04-09T05:08:39.000Z'}}}]}"
      ]
     },
     "execution_count": 8,
     "metadata": {},
     "output_type": "execute_result"
    }
   ],
   "source": [
    "data"
   ]
  },
  {
   "cell_type": "code",
   "execution_count": 36,
   "metadata": {
    "scrolled": false
   },
   "outputs": [
    {
     "data": {
      "text/plain": [
       "{'id': 1,\n",
       " 'name': 'Bitcoin',\n",
       " 'symbol': 'BTC',\n",
       " 'slug': 'bitcoin',\n",
       " 'num_market_pairs': 7689,\n",
       " 'date_added': '2013-04-28T00:00:00.000Z',\n",
       " 'tags': ['mineable'],\n",
       " 'max_supply': 21000000,\n",
       " 'circulating_supply': 18313600,\n",
       " 'total_supply': 18313600,\n",
       " 'platform': None,\n",
       " 'cmc_rank': 1,\n",
       " 'last_updated': '2020-04-09T05:08:39.000Z',\n",
       " 'quote': {'USD': {'price': 7296.91686707,\n",
       "   'volume_24h': 35665025125.8632,\n",
       "   'percent_change_1h': 0.233369,\n",
       "   'percent_change_24h': -0.334477,\n",
       "   'percent_change_7d': 10.1553,\n",
       "   'market_cap': 133632816736.77315,\n",
       "   'last_updated': '2020-04-09T05:08:39.000Z'}}}"
      ]
     },
     "execution_count": 36,
     "metadata": {},
     "output_type": "execute_result"
    }
   ],
   "source": [
    "data['data'][0]"
   ]
  },
  {
   "cell_type": "code",
   "execution_count": 23,
   "metadata": {
    "scrolled": true
   },
   "outputs": [
    {
     "data": {
      "text/plain": [
       "1"
      ]
     },
     "execution_count": 23,
     "metadata": {},
     "output_type": "execute_result"
    }
   ],
   "source": [
    "data['data'][0]['id']"
   ]
  },
  {
   "cell_type": "code",
   "execution_count": 37,
   "metadata": {},
   "outputs": [
    {
     "name": "stdout",
     "output_type": "stream",
     "text": [
      "1 BTC = 7296.91686707\n",
      "แปลงเงินไทย = 239046.9965652132\n"
     ]
    }
   ],
   "source": [
    "print(\"1 \"+data['data'][0]['symbol']+\" = \"+str(data['data'][0]['quote']['USD']['price']))\n",
    "thb=32.76*data['data'][0]['quote']['USD']['price']\n",
    "print(\"แปลงเงินไทย = \"+str(thb))"
   ]
  },
  {
   "cell_type": "code",
   "execution_count": null,
   "metadata": {},
   "outputs": [],
   "source": []
  },
  {
   "cell_type": "markdown",
   "metadata": {},
   "source": [
    "## 2. API Google Sheet"
   ]
  },
  {
   "cell_type": "code",
   "execution_count": null,
   "metadata": {},
   "outputs": [],
   "source": [
    "#pip install gspread oauth2client\n",
    "#pip install pprint\n",
    "#https://gspread.readthedocs.io/en/latest/oauth2.html#oauth-credentials\n",
    "#https://console.developers.google.com/apis/dashboard\n",
    "#googledrive api\n",
    "    #Create google sheet\n",
    "    #Open google drive API\n",
    "    #Create google credential\n",
    "    #Share google sheet to email in json credential\n",
    "    #Open google sheet API\n",
    "    #Share credential for google sheet API"
   ]
  },
  {
   "cell_type": "code",
   "execution_count": 40,
   "metadata": {},
   "outputs": [],
   "source": [
    "import gspread\n",
    "from google.oauth2.service_account import Credentials\n",
    "\n",
    "scope = ['https://spreadsheets.google.com/feeds',\n",
    "         'https://www.googleapis.com/auth/drive']\n",
    "\n",
    "credentials = Credentials.from_service_account_file('GoogleDemo.json', scopes=scope)\n",
    "\n",
    "gc = gspread.authorize(credentials)\n",
    "\n",
    "#wks = gc.open(\"Where is the money Lebowski?\").sheet1\n",
    "sheet = gc.open(\"Customer\").sheet1"
   ]
  },
  {
   "cell_type": "code",
   "execution_count": 45,
   "metadata": {},
   "outputs": [
    {
     "name": "stdout",
     "output_type": "stream",
     "text": [
      "[{'Amount': 150, 'Email Customer': 'a@gmail.com'},\n",
      " {'Amount': 150, 'Email Customer': 'b@gmail.com'},\n",
      " {'Amount': 150, 'Email Customer': 'c@gmail.com'},\n",
      " {'Amount': 850, 'Email Customer': 'd@gmail.com'}]\n"
     ]
    }
   ],
   "source": [
    "import pprint\n",
    "pp = pprint.PrettyPrinter()\n",
    "result = sheet.get_all_records()\n",
    "pp.pprint(result)"
   ]
  },
  {
   "cell_type": "code",
   "execution_count": null,
   "metadata": {},
   "outputs": [],
   "source": []
  },
  {
   "cell_type": "code",
   "execution_count": null,
   "metadata": {},
   "outputs": [],
   "source": []
  }
 ],
 "metadata": {
  "kernelspec": {
   "display_name": "Python 3",
   "language": "python",
   "name": "python3"
  },
  "language_info": {
   "codemirror_mode": {
    "name": "ipython",
    "version": 3
   },
   "file_extension": ".py",
   "mimetype": "text/x-python",
   "name": "python",
   "nbconvert_exporter": "python",
   "pygments_lexer": "ipython3",
   "version": "3.7.1"
  }
 },
 "nbformat": 4,
 "nbformat_minor": 4
}
