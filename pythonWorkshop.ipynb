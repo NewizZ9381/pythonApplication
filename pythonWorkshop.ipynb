{
 "cells": [
  {
   "cell_type": "markdown",
   "metadata": {},
   "source": [
    "# Python Workshop"
   ]
  },
  {
   "cell_type": "markdown",
   "metadata": {},
   "source": [
    "## 1. API Bitcoin"
   ]
  },
  {
   "cell_type": "code",
   "execution_count": 6,
   "metadata": {
    "scrolled": false
   },
   "outputs": [
    {
     "data": {
      "text/plain": [
       "'import requests\\nres = requests.get(\\'https://api.coinmarketcap.com/v1/ticker/bitcoin/\\')\\ndata=res.json()\\nprint(\"1 \"+data[0][\\'symbol\\']+\" = \"+data[0][\\'price_usd\\'])\\nthb=32.76*float(data[0][\\'price_usd\\'])\\nprint(\"แปลงเงินไทย = \"+str(thb))'"
      ]
     },
     "execution_count": 6,
     "metadata": {},
     "output_type": "execute_result"
    }
   ],
   "source": [
    "'''import requests\n",
    "res = requests.get('https://api.coinmarketcap.com/v1/ticker/bitcoin/')\n",
    "data=res.json()\n",
    "print(\"1 \"+data[0]['symbol']+\" = \"+data[0]['price_usd'])\n",
    "thb=32.76*float(data[0]['price_usd'])\n",
    "print(\"แปลงเงินไทย = \"+str(thb))'''"
   ]
  },
  {
   "cell_type": "code",
   "execution_count": 7,
   "metadata": {},
   "outputs": [],
   "source": [
    "#API key : 63a73ecf-fe78-4b29-ae9d-d7ae01316db6\n",
    "#https://coinmarketcap.com/api/documentation/v1/#section/Quick-Start-Guide\n",
    "#User : NewizZ"
   ]
  },
  {
   "cell_type": "code",
   "execution_count": 8,
   "metadata": {},
   "outputs": [
    {
     "name": "stdout",
     "output_type": "stream",
     "text": [
      "{'status': {'timestamp': '2020-04-09T09:05:40.622Z', 'error_code': 0, 'error_message': None, 'elapsed': 11, 'credit_count': 1, 'notice': None}, 'data': [{'id': 1, 'name': 'Bitcoin', 'symbol': 'BTC', 'slug': 'bitcoin', 'num_market_pairs': 7691, 'date_added': '2013-04-28T00:00:00.000Z', 'tags': ['mineable'], 'max_supply': 21000000, 'circulating_supply': 18313800, 'total_supply': 18313800, 'platform': None, 'cmc_rank': 1, 'last_updated': '2020-04-09T09:04:44.000Z', 'quote': {'USD': {'price': 7310.97822821, 'volume_24h': 34347541699.2733, 'percent_change_1h': -0.0588492, 'percent_change_24h': 0.236287, 'percent_change_7d': 10.0013, 'market_cap': 133891793075.79231, 'last_updated': '2020-04-09T09:04:44.000Z'}}}]}\n"
     ]
    }
   ],
   "source": [
    "from requests import Request, Session\n",
    "from requests.exceptions import ConnectionError, Timeout, TooManyRedirects\n",
    "import json\n",
    "\n",
    "url = 'https://pro-api.coinmarketcap.com/v1/cryptocurrency/listings/latest'\n",
    "parameters = {\n",
    "  'start':'1',\n",
    "  'limit':'1',\n",
    "  'convert':'USD'\n",
    "}\n",
    "headers = {\n",
    "  'Accepts': 'application/json',\n",
    "  'X-CMC_PRO_API_KEY': '63a73ecf-fe78-4b29-ae9d-d7ae01316db6',\n",
    "}\n",
    "\n",
    "session = Session()\n",
    "session.headers.update(headers)\n",
    "\n",
    "try:\n",
    "  response = session.get(url, params=parameters)\n",
    "  data = json.loads(response.text)\n",
    "  print(data)\n",
    "except (ConnectionError, Timeout, TooManyRedirects) as e:\n",
    "  print(e)"
   ]
  },
  {
   "cell_type": "code",
   "execution_count": 9,
   "metadata": {
    "scrolled": true
   },
   "outputs": [
    {
     "data": {
      "text/plain": [
       "{'status': {'timestamp': '2020-04-09T09:05:40.622Z',\n",
       "  'error_code': 0,\n",
       "  'error_message': None,\n",
       "  'elapsed': 11,\n",
       "  'credit_count': 1,\n",
       "  'notice': None},\n",
       " 'data': [{'id': 1,\n",
       "   'name': 'Bitcoin',\n",
       "   'symbol': 'BTC',\n",
       "   'slug': 'bitcoin',\n",
       "   'num_market_pairs': 7691,\n",
       "   'date_added': '2013-04-28T00:00:00.000Z',\n",
       "   'tags': ['mineable'],\n",
       "   'max_supply': 21000000,\n",
       "   'circulating_supply': 18313800,\n",
       "   'total_supply': 18313800,\n",
       "   'platform': None,\n",
       "   'cmc_rank': 1,\n",
       "   'last_updated': '2020-04-09T09:04:44.000Z',\n",
       "   'quote': {'USD': {'price': 7310.97822821,\n",
       "     'volume_24h': 34347541699.2733,\n",
       "     'percent_change_1h': -0.0588492,\n",
       "     'percent_change_24h': 0.236287,\n",
       "     'percent_change_7d': 10.0013,\n",
       "     'market_cap': 133891793075.79231,\n",
       "     'last_updated': '2020-04-09T09:04:44.000Z'}}}]}"
      ]
     },
     "execution_count": 9,
     "metadata": {},
     "output_type": "execute_result"
    }
   ],
   "source": [
    "data"
   ]
  },
  {
   "cell_type": "code",
   "execution_count": 10,
   "metadata": {
    "scrolled": false
   },
   "outputs": [
    {
     "data": {
      "text/plain": [
       "{'id': 1,\n",
       " 'name': 'Bitcoin',\n",
       " 'symbol': 'BTC',\n",
       " 'slug': 'bitcoin',\n",
       " 'num_market_pairs': 7691,\n",
       " 'date_added': '2013-04-28T00:00:00.000Z',\n",
       " 'tags': ['mineable'],\n",
       " 'max_supply': 21000000,\n",
       " 'circulating_supply': 18313800,\n",
       " 'total_supply': 18313800,\n",
       " 'platform': None,\n",
       " 'cmc_rank': 1,\n",
       " 'last_updated': '2020-04-09T09:04:44.000Z',\n",
       " 'quote': {'USD': {'price': 7310.97822821,\n",
       "   'volume_24h': 34347541699.2733,\n",
       "   'percent_change_1h': -0.0588492,\n",
       "   'percent_change_24h': 0.236287,\n",
       "   'percent_change_7d': 10.0013,\n",
       "   'market_cap': 133891793075.79231,\n",
       "   'last_updated': '2020-04-09T09:04:44.000Z'}}}"
      ]
     },
     "execution_count": 10,
     "metadata": {},
     "output_type": "execute_result"
    }
   ],
   "source": [
    "data['data'][0]"
   ]
  },
  {
   "cell_type": "code",
   "execution_count": 11,
   "metadata": {
    "scrolled": true
   },
   "outputs": [
    {
     "data": {
      "text/plain": [
       "1"
      ]
     },
     "execution_count": 11,
     "metadata": {},
     "output_type": "execute_result"
    }
   ],
   "source": [
    "data['data'][0]['id']"
   ]
  },
  {
   "cell_type": "code",
   "execution_count": 12,
   "metadata": {},
   "outputs": [
    {
     "name": "stdout",
     "output_type": "stream",
     "text": [
      "1 BTC = 7310.97822821\n",
      "แปลงเงินไทย = 239507.6467561596\n"
     ]
    }
   ],
   "source": [
    "print(\"1 \"+data['data'][0]['symbol']+\" = \"+str(data['data'][0]['quote']['USD']['price']))\n",
    "thb=32.76*data['data'][0]['quote']['USD']['price']\n",
    "print(\"แปลงเงินไทย = \"+str(thb))"
   ]
  },
  {
   "cell_type": "markdown",
   "metadata": {},
   "source": [
    "## 2. API Google Sheet"
   ]
  },
  {
   "cell_type": "code",
   "execution_count": 48,
   "metadata": {},
   "outputs": [],
   "source": [
    "#pip install gspread oauth2client\n",
    "#pip install pprint\n",
    "#https://gspread.readthedocs.io/en/latest/oauth2.html#oauth-credentials\n",
    "#https://console.developers.google.com/apis/dashboard\n",
    "#googledrive api\n",
    "    #Create google sheet\n",
    "    #Open google drive API\n",
    "    #Create google credential\n",
    "    #Share google sheet to email in json credential\n",
    "    #Open google sheet API\n",
    "    #Share credential for google sheet API"
   ]
  },
  {
   "cell_type": "code",
   "execution_count": 49,
   "metadata": {},
   "outputs": [],
   "source": [
    "import gspread\n",
    "from google.oauth2.service_account import Credentials\n",
    "\n",
    "scope = ['https://spreadsheets.google.com/feeds',\n",
    "         'https://www.googleapis.com/auth/drive']\n",
    "\n",
    "credentials = Credentials.from_service_account_file('GoogleDemo.json', scopes=scope)\n",
    "\n",
    "gc = gspread.authorize(credentials)\n",
    "\n",
    "#wks = gc.open(\"Where is the money Lebowski?\").sheet1\n",
    "sheet = gc.open(\"Customer\").sheet1"
   ]
  },
  {
   "cell_type": "code",
   "execution_count": 50,
   "metadata": {},
   "outputs": [
    {
     "name": "stdout",
     "output_type": "stream",
     "text": [
      "[{'Amount': 150, 'Email Customer': 'a@gmail.com'},\n",
      " {'Amount': 150, 'Email Customer': 'b@gmail.com'},\n",
      " {'Amount': 150, 'Email Customer': 'c@gmail.com'},\n",
      " {'Amount': 850, 'Email Customer': 'd@gmail.com'},\n",
      " {'Amount': 999, 'Email Customer': 'e@gmail.com'},\n",
      " {'Amount': '', 'Email Customer': ''},\n",
      " {'Amount': 400, 'Email Customer': 'f@gmail.com'}]\n"
     ]
    }
   ],
   "source": [
    "import pprint\n",
    "pp = pprint.PrettyPrinter()\n",
    "result = sheet.get_all_records()\n",
    "pp.pprint(result)"
   ]
  },
  {
   "cell_type": "code",
   "execution_count": 51,
   "metadata": {},
   "outputs": [
    {
     "name": "stdout",
     "output_type": "stream",
     "text": [
      "'Email Customer'\n"
     ]
    }
   ],
   "source": [
    "value = sheet.acell('A1').value\n",
    "pp.pprint(value)"
   ]
  },
  {
   "cell_type": "code",
   "execution_count": 52,
   "metadata": {},
   "outputs": [
    {
     "name": "stdout",
     "output_type": "stream",
     "text": [
      "['Email Customer',\n",
      " 'a@gmail.com',\n",
      " 'b@gmail.com',\n",
      " 'c@gmail.com',\n",
      " 'd@gmail.com',\n",
      " 'e@gmail.com',\n",
      " '',\n",
      " 'f@gmail.com']\n"
     ]
    }
   ],
   "source": [
    "value_list = sheet.col_values(1)\n",
    "pp.pprint(value_list)"
   ]
  },
  {
   "cell_type": "code",
   "execution_count": 53,
   "metadata": {},
   "outputs": [
    {
     "name": "stdout",
     "output_type": "stream",
     "text": [
      "['a@gmail.com', '150']\n"
     ]
    }
   ],
   "source": [
    "value_row = sheet.row_values(2)\n",
    "pp.pprint(value_row)"
   ]
  },
  {
   "cell_type": "code",
   "execution_count": 54,
   "metadata": {},
   "outputs": [
    {
     "name": "stdout",
     "output_type": "stream",
     "text": [
      "'Found data at : R2C2'\n"
     ]
    }
   ],
   "source": [
    "#Search for value\n",
    "cell = sheet.find(\"150\")\n",
    "pp.pprint(\"Found data at : R%sC%s\"%(cell.row, cell.col))"
   ]
  },
  {
   "cell_type": "code",
   "execution_count": 55,
   "metadata": {},
   "outputs": [
    {
     "name": "stdout",
     "output_type": "stream",
     "text": [
      "'Found data at : R2C2'\n",
      "'Found data at : R3C2'\n",
      "'Found data at : R4C2'\n"
     ]
    }
   ],
   "source": [
    "cell = sheet.findall(\"150\")\n",
    "for result in cell:\n",
    "    pp.pprint(\"Found data at : R%sC%s\"%(result.row, result.col))"
   ]
  },
  {
   "cell_type": "code",
   "execution_count": 56,
   "metadata": {},
   "outputs": [
    {
     "data": {
      "text/plain": [
       "{'spreadsheetId': '1ITXX0KQiE0zQ1jk4oVEsHy58_ciuJnk1pJh0lguFTKQ',\n",
       " 'updatedRange': \"'บัญชีรายรับ-รายจ่าย'!B6\",\n",
       " 'updatedRows': 1,\n",
       " 'updatedColumns': 1,\n",
       " 'updatedCells': 1}"
      ]
     },
     "execution_count": 56,
     "metadata": {},
     "output_type": "execute_result"
    }
   ],
   "source": [
    "#Update data to googlesheet\n",
    "sheet.update_cell(6,2, '999')"
   ]
  },
  {
   "cell_type": "code",
   "execution_count": 57,
   "metadata": {},
   "outputs": [
    {
     "data": {
      "text/plain": [
       "{'spreadsheetId': '1ITXX0KQiE0zQ1jk4oVEsHy58_ciuJnk1pJh0lguFTKQ',\n",
       " 'updatedRange': \"'บัญชีรายรับ-รายจ่าย'!A7:B7\",\n",
       " 'updatedRows': 1,\n",
       " 'updatedColumns': 2,\n",
       " 'updatedCells': 2}"
      ]
     },
     "execution_count": 57,
     "metadata": {},
     "output_type": "execute_result"
    }
   ],
   "source": [
    "#Insert data to googlesheet\n",
    "row = [\"NewizZ\",\"100\"]\n",
    "sheet.insert_row(row,7)"
   ]
  },
  {
   "cell_type": "code",
   "execution_count": 58,
   "metadata": {},
   "outputs": [
    {
     "data": {
      "text/plain": [
       "{'spreadsheetId': '1ITXX0KQiE0zQ1jk4oVEsHy58_ciuJnk1pJh0lguFTKQ',\n",
       " 'replies': [{}]}"
      ]
     },
     "execution_count": 58,
     "metadata": {},
     "output_type": "execute_result"
    }
   ],
   "source": [
    "#Delete data in googlesheet\n",
    "sheet.delete_row(7)"
   ]
  },
  {
   "cell_type": "markdown",
   "metadata": {},
   "source": [
    "## 3. Instragram Data"
   ]
  },
  {
   "cell_type": "code",
   "execution_count": null,
   "metadata": {},
   "outputs": [],
   "source": []
  },
  {
   "cell_type": "markdown",
   "metadata": {},
   "source": [
    "## 4. Play Audio by pyglet"
   ]
  },
  {
   "cell_type": "code",
   "execution_count": 65,
   "metadata": {},
   "outputs": [],
   "source": [
    "#Install avbin and move avbin.dll to folder\n",
    "import pyglet\n",
    "path=\"everlasting.mp3\"\n",
    "\n",
    "window=pyglet.window.Window()\n",
    "label=pyglet.text.Label(\"Play Sound\",font_size=40,\n",
    "                        x=window.width/2,y=window.height/2,anchor_x=\"center\",anchor_y=\"center\")\n",
    "\n",
    "music=pyglet.resource.media(path,streaming=False)\n",
    "\n",
    "@window.event\n",
    "def on_draw():\n",
    "    window.clear()\n",
    "    label.draw()\n",
    "    music.play()\n",
    "\n",
    "pyglet.app.run()"
   ]
  },
  {
   "cell_type": "markdown",
   "metadata": {},
   "source": [
    "## 5. Play Video by pyglet"
   ]
  },
  {
   "cell_type": "code",
   "execution_count": 4,
   "metadata": {
    "scrolled": true
   },
   "outputs": [
    {
     "ename": "AttributeError",
     "evalue": "'WMFSource' object has no attribute 'video_frame'",
     "output_type": "error",
     "traceback": [
      "\u001b[1;31m---------------------------------------------------------------------------\u001b[0m",
      "\u001b[1;31mAttributeError\u001b[0m                            Traceback (most recent call last)",
      "\u001b[1;32m<ipython-input-4-973244fec14d>\u001b[0m in \u001b[0;36m<module>\u001b[1;34m\u001b[0m\n\u001b[0;32m     16\u001b[0m         \u001b[0mplyer\u001b[0m\u001b[1;33m.\u001b[0m\u001b[0mget_texture\u001b[0m\u001b[1;33m(\u001b[0m\u001b[1;33m)\u001b[0m\u001b[1;33m.\u001b[0m\u001b[0mblit\u001b[0m\u001b[1;33m(\u001b[0m\u001b[1;36m0\u001b[0m\u001b[1;33m,\u001b[0m\u001b[1;36m0\u001b[0m\u001b[1;33m)\u001b[0m\u001b[1;33m\u001b[0m\u001b[1;33m\u001b[0m\u001b[0m\n\u001b[0;32m     17\u001b[0m \u001b[1;33m\u001b[0m\u001b[0m\n\u001b[1;32m---> 18\u001b[1;33m \u001b[0mpyglet\u001b[0m\u001b[1;33m.\u001b[0m\u001b[0mapp\u001b[0m\u001b[1;33m.\u001b[0m\u001b[0mrun\u001b[0m\u001b[1;33m(\u001b[0m\u001b[1;33m)\u001b[0m\u001b[1;33m\u001b[0m\u001b[1;33m\u001b[0m\u001b[0m\n\u001b[0m",
      "\u001b[1;32m~\\Anaconda3\\envs\\pyworkshop\\lib\\site-packages\\pyglet\\app\\__init__.py\u001b[0m in \u001b[0;36mrun\u001b[1;34m()\u001b[0m\n\u001b[0;32m    105\u001b[0m \u001b[1;33m\u001b[0m\u001b[0m\n\u001b[0;32m    106\u001b[0m     \"\"\"\n\u001b[1;32m--> 107\u001b[1;33m     \u001b[0mevent_loop\u001b[0m\u001b[1;33m.\u001b[0m\u001b[0mrun\u001b[0m\u001b[1;33m(\u001b[0m\u001b[1;33m)\u001b[0m\u001b[1;33m\u001b[0m\u001b[1;33m\u001b[0m\u001b[0m\n\u001b[0m\u001b[0;32m    108\u001b[0m \u001b[1;33m\u001b[0m\u001b[0m\n\u001b[0;32m    109\u001b[0m \u001b[1;33m\u001b[0m\u001b[0m\n",
      "\u001b[1;32m~\\Anaconda3\\envs\\pyworkshop\\lib\\site-packages\\pyglet\\app\\base.py\u001b[0m in \u001b[0;36mrun\u001b[1;34m(self)\u001b[0m\n\u001b[0;32m    165\u001b[0m \u001b[1;33m\u001b[0m\u001b[0m\n\u001b[0;32m    166\u001b[0m         \u001b[1;32mwhile\u001b[0m \u001b[1;32mnot\u001b[0m \u001b[0mself\u001b[0m\u001b[1;33m.\u001b[0m\u001b[0mhas_exit\u001b[0m\u001b[1;33m:\u001b[0m\u001b[1;33m\u001b[0m\u001b[1;33m\u001b[0m\u001b[0m\n\u001b[1;32m--> 167\u001b[1;33m             \u001b[0mtimeout\u001b[0m \u001b[1;33m=\u001b[0m \u001b[0mself\u001b[0m\u001b[1;33m.\u001b[0m\u001b[0midle\u001b[0m\u001b[1;33m(\u001b[0m\u001b[1;33m)\u001b[0m\u001b[1;33m\u001b[0m\u001b[1;33m\u001b[0m\u001b[0m\n\u001b[0m\u001b[0;32m    168\u001b[0m             \u001b[0mplatform_event_loop\u001b[0m\u001b[1;33m.\u001b[0m\u001b[0mstep\u001b[0m\u001b[1;33m(\u001b[0m\u001b[0mtimeout\u001b[0m\u001b[1;33m)\u001b[0m\u001b[1;33m\u001b[0m\u001b[1;33m\u001b[0m\u001b[0m\n\u001b[0;32m    169\u001b[0m \u001b[1;33m\u001b[0m\u001b[0m\n",
      "\u001b[1;32m~\\Anaconda3\\envs\\pyworkshop\\lib\\site-packages\\pyglet\\app\\base.py\u001b[0m in \u001b[0;36midle\u001b[1;34m(self)\u001b[0m\n\u001b[0;32m    241\u001b[0m             \u001b[1;32mif\u001b[0m \u001b[0mredraw_all\u001b[0m \u001b[1;32mor\u001b[0m \u001b[1;33m(\u001b[0m\u001b[0mwindow\u001b[0m\u001b[1;33m.\u001b[0m\u001b[0m_legacy_invalid\u001b[0m \u001b[1;32mand\u001b[0m \u001b[0mwindow\u001b[0m\u001b[1;33m.\u001b[0m\u001b[0minvalid\u001b[0m\u001b[1;33m)\u001b[0m\u001b[1;33m:\u001b[0m\u001b[1;33m\u001b[0m\u001b[1;33m\u001b[0m\u001b[0m\n\u001b[0;32m    242\u001b[0m                 \u001b[0mwindow\u001b[0m\u001b[1;33m.\u001b[0m\u001b[0mswitch_to\u001b[0m\u001b[1;33m(\u001b[0m\u001b[1;33m)\u001b[0m\u001b[1;33m\u001b[0m\u001b[1;33m\u001b[0m\u001b[0m\n\u001b[1;32m--> 243\u001b[1;33m                 \u001b[0mwindow\u001b[0m\u001b[1;33m.\u001b[0m\u001b[0mdispatch_event\u001b[0m\u001b[1;33m(\u001b[0m\u001b[1;34m'on_draw'\u001b[0m\u001b[1;33m)\u001b[0m\u001b[1;33m\u001b[0m\u001b[1;33m\u001b[0m\u001b[0m\n\u001b[0m\u001b[0;32m    244\u001b[0m                 \u001b[0mwindow\u001b[0m\u001b[1;33m.\u001b[0m\u001b[0mflip\u001b[0m\u001b[1;33m(\u001b[0m\u001b[1;33m)\u001b[0m\u001b[1;33m\u001b[0m\u001b[1;33m\u001b[0m\u001b[0m\n\u001b[0;32m    245\u001b[0m                 \u001b[0mwindow\u001b[0m\u001b[1;33m.\u001b[0m\u001b[0m_legacy_invalid\u001b[0m \u001b[1;33m=\u001b[0m \u001b[1;32mFalse\u001b[0m\u001b[1;33m\u001b[0m\u001b[1;33m\u001b[0m\u001b[0m\n",
      "\u001b[1;32m~\\Anaconda3\\envs\\pyworkshop\\lib\\site-packages\\pyglet\\window\\__init__.py\u001b[0m in \u001b[0;36mdispatch_event\u001b[1;34m(self, *args)\u001b[0m\n\u001b[0;32m   1321\u001b[0m     \u001b[1;32mdef\u001b[0m \u001b[0mdispatch_event\u001b[0m\u001b[1;33m(\u001b[0m\u001b[0mself\u001b[0m\u001b[1;33m,\u001b[0m \u001b[1;33m*\u001b[0m\u001b[0margs\u001b[0m\u001b[1;33m)\u001b[0m\u001b[1;33m:\u001b[0m\u001b[1;33m\u001b[0m\u001b[1;33m\u001b[0m\u001b[0m\n\u001b[0;32m   1322\u001b[0m         \u001b[1;32mif\u001b[0m \u001b[1;32mnot\u001b[0m \u001b[0mself\u001b[0m\u001b[1;33m.\u001b[0m\u001b[0m_enable_event_queue\u001b[0m \u001b[1;32mor\u001b[0m \u001b[0mself\u001b[0m\u001b[1;33m.\u001b[0m\u001b[0m_allow_dispatch_event\u001b[0m\u001b[1;33m:\u001b[0m\u001b[1;33m\u001b[0m\u001b[1;33m\u001b[0m\u001b[0m\n\u001b[1;32m-> 1323\u001b[1;33m             \u001b[1;32mif\u001b[0m \u001b[0mEventDispatcher\u001b[0m\u001b[1;33m.\u001b[0m\u001b[0mdispatch_event\u001b[0m\u001b[1;33m(\u001b[0m\u001b[0mself\u001b[0m\u001b[1;33m,\u001b[0m \u001b[1;33m*\u001b[0m\u001b[0margs\u001b[0m\u001b[1;33m)\u001b[0m \u001b[1;33m!=\u001b[0m \u001b[1;32mFalse\u001b[0m\u001b[1;33m:\u001b[0m\u001b[1;33m\u001b[0m\u001b[1;33m\u001b[0m\u001b[0m\n\u001b[0m\u001b[0;32m   1324\u001b[0m                 \u001b[0mself\u001b[0m\u001b[1;33m.\u001b[0m\u001b[0m_legacy_invalid\u001b[0m \u001b[1;33m=\u001b[0m \u001b[1;32mTrue\u001b[0m\u001b[1;33m\u001b[0m\u001b[1;33m\u001b[0m\u001b[0m\n\u001b[0;32m   1325\u001b[0m         \u001b[1;32melse\u001b[0m\u001b[1;33m:\u001b[0m\u001b[1;33m\u001b[0m\u001b[1;33m\u001b[0m\u001b[0m\n",
      "\u001b[1;32m~\\Anaconda3\\envs\\pyworkshop\\lib\\site-packages\\pyglet\\event.py\u001b[0m in \u001b[0;36mdispatch_event\u001b[1;34m(self, event_type, *args)\u001b[0m\n\u001b[0;32m    406\u001b[0m             \u001b[1;32mtry\u001b[0m\u001b[1;33m:\u001b[0m\u001b[1;33m\u001b[0m\u001b[1;33m\u001b[0m\u001b[0m\n\u001b[0;32m    407\u001b[0m                 \u001b[0minvoked\u001b[0m \u001b[1;33m=\u001b[0m \u001b[1;32mTrue\u001b[0m\u001b[1;33m\u001b[0m\u001b[1;33m\u001b[0m\u001b[0m\n\u001b[1;32m--> 408\u001b[1;33m                 \u001b[1;32mif\u001b[0m \u001b[0mhandler\u001b[0m\u001b[1;33m(\u001b[0m\u001b[1;33m*\u001b[0m\u001b[0margs\u001b[0m\u001b[1;33m)\u001b[0m\u001b[1;33m:\u001b[0m\u001b[1;33m\u001b[0m\u001b[1;33m\u001b[0m\u001b[0m\n\u001b[0m\u001b[0;32m    409\u001b[0m                     \u001b[1;32mreturn\u001b[0m \u001b[0mEVENT_HANDLED\u001b[0m\u001b[1;33m\u001b[0m\u001b[1;33m\u001b[0m\u001b[0m\n\u001b[0;32m    410\u001b[0m             \u001b[1;32mexcept\u001b[0m \u001b[0mTypeError\u001b[0m \u001b[1;32mas\u001b[0m \u001b[0mexception\u001b[0m\u001b[1;33m:\u001b[0m\u001b[1;33m\u001b[0m\u001b[1;33m\u001b[0m\u001b[0m\n",
      "\u001b[1;32m<ipython-input-4-973244fec14d>\u001b[0m in \u001b[0;36mon_draw\u001b[1;34m()\u001b[0m\n\u001b[0;32m     13\u001b[0m \u001b[1;32mdef\u001b[0m \u001b[0mon_draw\u001b[0m\u001b[1;33m(\u001b[0m\u001b[1;33m)\u001b[0m\u001b[1;33m:\u001b[0m\u001b[1;33m\u001b[0m\u001b[1;33m\u001b[0m\u001b[0m\n\u001b[0;32m     14\u001b[0m     \u001b[0mplayer\u001b[0m\u001b[1;33m.\u001b[0m\u001b[0mplay\u001b[0m\u001b[1;33m(\u001b[0m\u001b[1;33m)\u001b[0m\u001b[1;33m\u001b[0m\u001b[1;33m\u001b[0m\u001b[0m\n\u001b[1;32m---> 15\u001b[1;33m     \u001b[1;32mif\u001b[0m \u001b[0mplayer\u001b[0m\u001b[1;33m.\u001b[0m\u001b[0msource\u001b[0m \u001b[1;32mand\u001b[0m \u001b[0mplayer\u001b[0m\u001b[1;33m.\u001b[0m\u001b[0msource\u001b[0m\u001b[1;33m.\u001b[0m\u001b[0mvideo_frame\u001b[0m\u001b[1;33m:\u001b[0m\u001b[1;33m\u001b[0m\u001b[1;33m\u001b[0m\u001b[0m\n\u001b[0m\u001b[0;32m     16\u001b[0m         \u001b[0mplyer\u001b[0m\u001b[1;33m.\u001b[0m\u001b[0mget_texture\u001b[0m\u001b[1;33m(\u001b[0m\u001b[1;33m)\u001b[0m\u001b[1;33m.\u001b[0m\u001b[0mblit\u001b[0m\u001b[1;33m(\u001b[0m\u001b[1;36m0\u001b[0m\u001b[1;33m,\u001b[0m\u001b[1;36m0\u001b[0m\u001b[1;33m)\u001b[0m\u001b[1;33m\u001b[0m\u001b[1;33m\u001b[0m\u001b[0m\n\u001b[0;32m     17\u001b[0m \u001b[1;33m\u001b[0m\u001b[0m\n",
      "\u001b[1;31mAttributeError\u001b[0m: 'WMFSource' object has no attribute 'video_frame'"
     ]
    }
   ],
   "source": [
    "#Install avbin and move avbin.dll to folder\n",
    "import pyglet\n",
    "path=\"Tell Me You Love Me.mp4\"\n",
    "\n",
    "window=pyglet.window.Window()\n",
    "\n",
    "player=pyglet.media.Player()\n",
    "source=pyglet.media.StreamingSource()\n",
    "MediaLoad=pyglet.media.load(path)\n",
    "player.queue(MediaLoad)\n",
    "\n",
    "@window.event\n",
    "def on_draw():\n",
    "    player.play()\n",
    "    if player.source and player.source.video_format:\n",
    "        player.get_texture().blit(0,0)\n",
    "\n",
    "pyglet.app.run()"
   ]
  },
  {
   "cell_type": "markdown",
   "metadata": {},
   "source": [
    "## 6. Text to Speech by Google Speech"
   ]
  },
  {
   "cell_type": "markdown",
   "metadata": {},
   "source": [
    "## 7. Map"
   ]
  },
  {
   "cell_type": "markdown",
   "metadata": {},
   "source": [
    "## 8. FOREX"
   ]
  },
  {
   "cell_type": "markdown",
   "metadata": {},
   "source": [
    "## 9. Wikipedia"
   ]
  },
  {
   "cell_type": "code",
   "execution_count": 3,
   "metadata": {},
   "outputs": [
    {
     "name": "stdout",
     "output_type": "stream",
     "text": [
      "Search article : Thailand\n",
      "Thailand, officially the Kingdom of Thailand and formerly known as Siam, is a country at the centre of the Southeast Asian Indochinese Peninsula composed of 76 provinces. At 513,120 km2 (198,120 sq mi) and over 68 million people, Thailand is the world's 50th-largest country by total area and the 21st-most-populous country. The capital and largest city is Bangkok, a special administrative area. Thailand is bordered to the north by Myanmar and Laos, to the east by Laos and Cambodia, to the south by the Gulf of Thailand and Malaysia, and to the west by the Andaman Sea and the southern extremity of Myanmar. Its maritime boundaries include Vietnam in the Gulf of Thailand to the southeast, and Indonesia and India on the Andaman Sea to the southwest. It is a unitary state. Although nominally the country is a constitutional monarchy and parliamentary democracy, the most recent coup, in 2014, established a de facto military dictatorship under a junta.\n",
      "Tai peoples migrated from southwestern China to mainland Southeast Asia from the 11th century; the oldest known mention of their presence in the region by the exonym Siamese dates to the 12th century. Various Indianised kingdoms such as the Mon kingdoms, Khmer Empire and Malay states ruled the region, competing with Thai states such as the Kingdoms of Ngoenyang, Sukhothai, Lan Na and Ayutthaya, which rivalled each other. Documented European contact began in 1511 with a Portuguese diplomatic mission to Ayutthaya, now one of the great powers in the region. Ayutthaya reached its peak during cosmopolitan Narai's reign (1656–1688), gradually declining thereafter until being ultimately destroyed in the 1767 Burmese–Siamese War. Taksin (r. 1767–1782) quickly reunified the fragmented territory and established the short-lived Thonburi Kingdom. He was succeeded in 1782 by Buddha Yodfa Chulaloke (r. 1782–1809), the first monarch of the Chakri dynasty and founder of the Rattanakosin Kingdom, which lasted into the early 20th century.\n",
      "Through the 18th and 19th centuries, Siam faced pressure from France and the United Kingdom, including forced concessions of territory; nevertheless, it remained the only Southeast Asian country to avoid direct Western rule. Following a bloodless revolution in 1932, Siam became a constitutional monarchy and changed its official name to \"Thailand\". While it joined the Allies in World War I, Thailand was an Axis satellite in World War II. In the late 1950s, a military coup under Field Marshal Sarit Thanarat revived the monarchy's historically influential role in politics. Thailand became a major ally of the United States, and played a key anti-communist role in the region as a member of the Southeast Asia Treaty Organization (SEATO). Apart from a brief period of parliamentary democracy in the mid-1970s, Thailand has periodically alternated between democracy and military rule. In 2013, Thailand endured a political crisis that culminated in two coups and the establishment of its current and 20th constitution by a military junta.\n",
      "Thailand is a founding member of the Association of Southeast Asian Nations (ASEAN) and remains a major ally of the US. Despite comparatively sporadic changes in leadership, it is considered a regional power in Southeast Asia and a middle power in global affairs. With a high level of human development, the second-largest economy in Southeast Asia, and the 20th-largest by PPP, Thailand is classified as a newly industrialized economy; manufacturing, agriculture, and tourism are leading sectors of the economy.\n"
     ]
    }
   ],
   "source": [
    "import wikipedia\n",
    "message=input(\"Search article : \")\n",
    "result=wikipedia.summary(message)\n",
    "print(result)"
   ]
  },
  {
   "cell_type": "code",
   "execution_count": 4,
   "metadata": {},
   "outputs": [
    {
     "name": "stdout",
     "output_type": "stream",
     "text": [
      "Search article : ประเทศไทย\n",
      "Thailand, officially the Kingdom of Thailand and formerly known as Siam, is a country at the centre of the Southeast Asian Indochinese Peninsula composed of 76 provinces. At 513,120 km2 (198,120 sq mi) and over 68 million people, Thailand is the world's 50th-largest country by total area and the 21st-most-populous country. The capital and largest city is Bangkok, a special administrative area. Thailand is bordered to the north by Myanmar and Laos, to the east by Laos and Cambodia, to the south by the Gulf of Thailand and Malaysia, and to the west by the Andaman Sea and the southern extremity of Myanmar. Its maritime boundaries include Vietnam in the Gulf of Thailand to the southeast, and Indonesia and India on the Andaman Sea to the southwest. It is a unitary state. Although nominally the country is a constitutional monarchy and parliamentary democracy, the most recent coup, in 2014, established a de facto military dictatorship under a junta.\n",
      "Tai peoples migrated from southwestern China to mainland Southeast Asia from the 11th century; the oldest known mention of their presence in the region by the exonym Siamese dates to the 12th century. Various Indianised kingdoms such as the Mon kingdoms, Khmer Empire and Malay states ruled the region, competing with Thai states such as the Kingdoms of Ngoenyang, Sukhothai, Lan Na and Ayutthaya, which rivalled each other. Documented European contact began in 1511 with a Portuguese diplomatic mission to Ayutthaya, now one of the great powers in the region. Ayutthaya reached its peak during cosmopolitan Narai's reign (1656–1688), gradually declining thereafter until being ultimately destroyed in the 1767 Burmese–Siamese War. Taksin (r. 1767–1782) quickly reunified the fragmented territory and established the short-lived Thonburi Kingdom. He was succeeded in 1782 by Buddha Yodfa Chulaloke (r. 1782–1809), the first monarch of the Chakri dynasty and founder of the Rattanakosin Kingdom, which lasted into the early 20th century.\n",
      "Through the 18th and 19th centuries, Siam faced pressure from France and the United Kingdom, including forced concessions of territory; nevertheless, it remained the only Southeast Asian country to avoid direct Western rule. Following a bloodless revolution in 1932, Siam became a constitutional monarchy and changed its official name to \"Thailand\". While it joined the Allies in World War I, Thailand was an Axis satellite in World War II. In the late 1950s, a military coup under Field Marshal Sarit Thanarat revived the monarchy's historically influential role in politics. Thailand became a major ally of the United States, and played a key anti-communist role in the region as a member of the Southeast Asia Treaty Organization (SEATO). Apart from a brief period of parliamentary democracy in the mid-1970s, Thailand has periodically alternated between democracy and military rule. In 2013, Thailand endured a political crisis that culminated in two coups and the establishment of its current and 20th constitution by a military junta.\n",
      "Thailand is a founding member of the Association of Southeast Asian Nations (ASEAN) and remains a major ally of the US. Despite comparatively sporadic changes in leadership, it is considered a regional power in Southeast Asia and a middle power in global affairs. With a high level of human development, the second-largest economy in Southeast Asia, and the 20th-largest by PPP, Thailand is classified as a newly industrialized economy; manufacturing, agriculture, and tourism are leading sectors of the economy.\n"
     ]
    }
   ],
   "source": [
    "message=input(\"Search article : \")\n",
    "result=wikipedia.summary(message)\n",
    "print(result)"
   ]
  },
  {
   "cell_type": "code",
   "execution_count": 6,
   "metadata": {},
   "outputs": [
    {
     "name": "stdout",
     "output_type": "stream",
     "text": [
      "Search article : ประเทศไทย\n",
      "ประเทศไทย มีชื่ออย่างเป็นทางราชการว่า ราชอาณาจักรไทย เป็นรัฐชาติอันตั้งอยู่ในภูมิภาคเอเชียตะวันออกเฉียงใต้ เดิมมีชื่อว่า \"สยาม\" รัฐบาลประกาศเปลี่ยนชื่อเป็นประเทศไทยอย่างเป็นทางการตั้งแต่ปี 2482 ประเทศไทยมีขนาดใหญ่เป็นอันดับที่ 50 ของโลก มีเนื้อที่ 513,120 ตารางกิโลเมตร และมีประชากรมากเป็นอันดับที่ 20 ของโลก คือ ประมาณ 69 ล้านคน มีอาณาเขตติดต่อกับประเทศพม่าทางทิศเหนือและตะวันตก ประเทศลาวทางทิศเหนือและตะวันออก ประเทศกัมพูชาทางทิศตะวันออก และประเทศมาเลเซียทางทิศใต้ กรุงเทพมหานครเป็นศูนย์กลางการบริหารราชการแผ่นดินและนครใหญ่สุดของประเทศ และการปกครองส่วนภูมิภาค จัดระเบียบเป็น 76 จังหวัด แม้จะมีการสถาปนาระบอบราชาธิปไตยภายใต้รัฐธรรมนูญและประชาธิปไตยระบบรัฐสภาในปี 2475 แต่กองทัพยังมีบทบาทในการเมืองไทยสูง โดยมีรัฐประหารครั้งล่าสุดในปี 2557\n",
      "พบหลักฐานการอยู่อาศัยอย่างต่อเนื่องในอาณาเขตประเทศไทยปัจจุบันตั้งแต่ 20,000 ปีก่อนคริสตกาล ชาวไทเริ่มอพยพเข้าสู่บริเวณนี้ในคริสต์ศตวรรษที่ 11 แล้วเข้ามาตั้งแว่นแคว้นต่าง ๆ ที่สำคัญได้แก่ อาณาจักรสุโขทัย อาณาจักรล้านนาและอาณาจักรอยุธยา นักประวัติศาสตร์มักถือว่าอาณาจักรสุโขทัยเป็นจุดเริ่มต้นของประวัติศาสตร์ไทย ต่อมาอาณาจักรอยุธยาค่อย ๆ เรืองอำนาจมากขึ้นจนเป็นมหาอำนาจในภูมิภาคในปลายคริสต์ศตวรรษที่ 14 แทนจักรวรรดิเขมร อาณาจักรอยุธยาสามารถผนวกสุโขทัยเข้าเป็นส่วนหนึ่งของตนได้ การติดต่อกับชาติตะวันตกเริ่มด้วยผู้แทนทางทูตชาวโปรตุเกสในปี 2054 การสงครามกับพม่านำไปสู่การเสียกรุงในปี 2112 แต่สมเด็จพระนเรศวรมหาราช ทรงประกาศอิสรภาพในเวลา 15 ปี อาณาจักรรุ่งเรืองอย่างมากในรัชกาลสมเด็จพระนารายณ์มหาราช แต่หลังจากนั้นค่อย ๆ เสื่อมอำนาจโดยมีสาเหตุส่วนหนึ่งจากการผลัดแผ่นดินที่มีการนองเลือดหลายรัชกาล จนสุดท้ายกรุงศรีอยุธยาถูกทำลายสิ้นเชิงในปี 2310 สมเด็จพระเจ้ากรุงธนบุรี ทรงรวบรวมแผ่นดินที่แตกออกเป็นก๊กต่าง ๆ และสถาปนาอาณาจักรธนบุรีที่มีอายุ 15 ปี ความวุ่นวายในช่วงปลายอาณาจักรนำไปสู่การสำเร็จโทษพระองค์โดยพระบาทสมเด็จพระพุทธยอดฟ้าจุฬาโลกมหาราช ปฐมราชวงศ์จักรีแห่งกรุงรัตนโกสินทร์ \n",
      "ช่วงต้นกรุงรัตนโกสินทร์ อาณาจักรสามารถรับมือกับภัยคุกคามจากชาติใกล้เคียง แต่หลังรัชกาลพระบาทสมเด็จพระจอมเกล้าเจ้าอยู่หัวเป็นต้นมา ชาติตะวันตกเริ่มมีอิทธิพลในภูมิภาคเป็นอย่างมาก นำไปสู่การเข้าเป็นภาคีแห่งสนธิสัญญาไม่เป็นธรรมหลายฉบับเริ่มจากสนธิสัญญาเบาว์ริง กระนั้น สยามไม่ตกเป็นอาณานิคมของตะวันตกชาติใด มีการปรับให้สยามทันสมัยและรวมอำนาจปกครองในรัชกาลพระบาทสมเด็จพระจุลจอมเกล้าเจ้าอยู่หัว สยามเข้าร่วมกับฝ่ายสัมพันธมิตรในสงครามโลกครั้งที่หนึ่งในปี 2460; ในปี 2475 เกิดการปฏิวัติเปลี่ยนแปลงการปกครองสู่ระบอบราชาธิปไตยภายใต้รัฐธรรมนูญโดยไม่เสียเลือดเนื้อ คณะราษฎรมีบทบาทนำทางการเมือง และในพุทธทศวรรษ 2480 นายกรัฐมนตรี จอมพล แปลก พิบูลสงคราม ดำเนินนโยบายชาตินิยมเข้มข้น ระหว่างสงครามโลกครั้งที่สอง ไทยเข้ากับฝ่ายอักษะ แต่ฝ่ายสัมพันธมิตรส่วนใหญ่ไม่ยอมรับการประกาศสงคราม ในช่วงสงครามเย็น ประเทศไทยเป็นพันธมิตรกับสหรัฐซึ่งสนับสนุนรัฐบาลทหาร รัฐประหารที่มีจอมพล สฤษดิ์ ธนะรัชต์เป็นหัวหน้าคณะในปี 2500 นำประเทศเข้าสู่ยุคเผด็จการทหารอย่างเบ็ดเสร็จ รัฐบาลฟื้นฟูพระราชอำนาจและดำเนินนโยบายต่อต้านคอมมิวนิสต์ในภูมิภาค ผลของเหตุการณ์ 14 ตุลา 2516 ทำให้เกิดประชาธิปไตยระบบรัฐสภาช่วงสั้น ๆ แต่หลังจากเหตุการณ์ 6 ตุลา และรัฐประหารปี 2519 ทำให้ประเทศไทยกลับเข้าสู่เผด็จการทหารและ \"ประชาธิปไตยครึ่งใบ\" ประเทศไทยมีนายกรัฐมนตรีจากการเลือกตั้งครั้งแรกในปี 2531 หลังพุทธทศวรรษ 2540 มีวิกฤตการเมืองระหว่างฝ่ายที่สนับสนุนและต่อต้านอดีตนายกรัฐมนตรีทักษิณ ชินวัตรมาจนปัจจุบัน รวมทั้งเกิดรัฐประหารสองครั้ง โดยครั้งล่าสุดเกิดในปี 2557 รัฐธรรมนูญฉบับปัจจุบันเป็นฉบับที่ 20 ประกาศใช้เมื่อวันที่ 6 เมษายน 2560\n",
      "ประเทศไทยเป็นสมาชิกสหประชาชาติ เอเปก อีกทั้งเป็นร่วมผู้ก่อตั้งอาเซียน ประเทศไทยเป็นพันธมิตรของสหรัฐตั้งแต่สนธิสัญญาซีโต้ในปี 2497 ถือเป็นประเทศอำนาจนำภูมิภาคเอเชียตะวันออกเฉียงใต้และประเทศอำนาจปานกลางในเวทีโลก ประเทศไทยเป็นประเทศที่มีรายได้ปานกลาง-สูงและประเทศอุตสาหกรรมใหม่ มีรายได้หลักจากภาคอุตสาหกรรมและบริการ การเปลี่ยนแปลงทางเศรษฐกิจทำให้มีการอพยพเข้าสู่เมืองในคริสต์ศตวรรษที่ 20 ตามประมาณการในปี 2562 จีดีพีของประเทศไทยมีมูลค่าราว 516,662 ล้านดอลลาร์สหรัฐ นับว่าเศรษฐกิจไทยเป็นเศรษฐกิจใหญ่สุดเป็นอันดับ 2 ในเอเชียตะวันออกเฉียงใต้และใหญ่เป็นอันดับที่ 25 ของโลก\n",
      "\n",
      "\n",
      "== ชื่อเรียก ==\n",
      "\n",
      "ชาวต่างชาติเรียกอาณาจักรอยุธยาว่า \"สยาม\" เมื่อราวปี 2000 ยอร์ช เซเดส์ นักประวัติศาสตร์ชาวฝรั่งเศส เขียนว่ามีการพาดพิงทาสหรือเชลยศึกซีเอม (Syam) ในจารึกอาณาจักรจามปาในคริสต์ศตวรรษที่ 11 ทว่าคนไทยไม่เคยเรียกตนเองว่า \"สยาม\" หรือ \"ชาวสยาม\" เลย ส่วนคำว่า \"คนไทย\" นั้น จดหมายเหตุลาลูแบร์ได้บันทึกไว้ชัดเจนว่า ชาวอยุธยาเรียกตนเองเช่นนั้นมานานแล้วเดิมประเทศไทยเคยใช้ชื่อว่า สยาม มาแต่รัชกาลพระบาทสมเด็จพระจอมเกล้าเจ้าอยู่หัว โดยปรากฏใช้เป็นชื่อประเทศชัดเจนในปี 2399 ต่อมา เมื่อวันที่ 24 มิถุนายน 2482 รัฐบาลจอมพล ป.\n"
     ]
    }
   ],
   "source": [
    "message=input(\"Search article : \")\n",
    "wikipedia.set_lang('th')\n",
    "result=wikipedia.summary(message, sentences=1)\n",
    "print(result)"
   ]
  },
  {
   "cell_type": "markdown",
   "metadata": {},
   "source": [
    "## 10. Open&Search data via web browser"
   ]
  },
  {
   "cell_type": "code",
   "execution_count": 9,
   "metadata": {},
   "outputs": [
    {
     "name": "stdout",
     "output_type": "stream",
     "text": [
      "Search data : django\n"
     ]
    },
    {
     "data": {
      "text/plain": [
       "True"
      ]
     },
     "execution_count": 9,
     "metadata": {},
     "output_type": "execute_result"
    }
   ],
   "source": [
    "import webbrowser as wb\n",
    "import sys\n",
    "message=input(\"Search data : \")\n",
    "wb.open_new_tab(\"http://www.google.com/search?q=\"+message)"
   ]
  },
  {
   "cell_type": "code",
   "execution_count": 10,
   "metadata": {},
   "outputs": [
    {
     "name": "stdout",
     "output_type": "stream",
     "text": [
      "Search data : covid-19\n"
     ]
    },
    {
     "data": {
      "text/plain": [
       "True"
      ]
     },
     "execution_count": 10,
     "metadata": {},
     "output_type": "execute_result"
    }
   ],
   "source": [
    "message=input(\"Search data : \")\n",
    "wb.open_new(\"http://www.google.com/search?q=\"+message)"
   ]
  },
  {
   "cell_type": "markdown",
   "metadata": {},
   "source": [
    "## 11. Search product from Ebay via API"
   ]
  },
  {
   "cell_type": "markdown",
   "metadata": {},
   "source": [
    "## 12. Download picture from website"
   ]
  },
  {
   "cell_type": "markdown",
   "metadata": {},
   "source": [
    "## 13. Download video youtube and transform to MP3"
   ]
  },
  {
   "cell_type": "markdown",
   "metadata": {},
   "source": [
    "## 14. Download data from Chilindo"
   ]
  },
  {
   "cell_type": "markdown",
   "metadata": {},
   "source": [
    "## 15. Download data from youtube by Pafy library"
   ]
  },
  {
   "cell_type": "markdown",
   "metadata": {},
   "source": [
    "## 16. Google Trend (Pytrend)"
   ]
  },
  {
   "cell_type": "markdown",
   "metadata": {},
   "source": [
    "## 17. Count share in social media"
   ]
  },
  {
   "cell_type": "markdown",
   "metadata": {},
   "source": [
    "## 18. Send Gmail"
   ]
  },
  {
   "cell_type": "code",
   "execution_count": 21,
   "metadata": {
    "scrolled": true
   },
   "outputs": [
    {
     "name": "stdout",
     "output_type": "stream",
     "text": [
      "Recieving E-mail : newkmitl47@gmail.com\n",
      "Send Complete\n"
     ]
    }
   ],
   "source": [
    "import smtplib\n",
    "import Config\n",
    "recipient = input(\"Recieving E-mail : \")\n",
    "server=smtplib.SMTP_SSL('smtp.gmail.com',465)\n",
    "server.login(Config.email,Config.password)\n",
    "\n",
    "content=\"Hello Python\"\n",
    "subject=\"Test Python\"\n",
    "\n",
    "email_text=\"\"\"\n",
    "From:%s\n",
    "To:%s\n",
    "subject:%s\n",
    "%s\n",
    "\"\"\"%(Config.email,recipient,subject,content)\n",
    "\n",
    "server.sendmail(Config.email,recipient,email_text)\n",
    "server.quit()\n",
    "print(\"Send Complete\")"
   ]
  },
  {
   "cell_type": "markdown",
   "metadata": {},
   "source": [
    "## 19. Wordcloud"
   ]
  },
  {
   "cell_type": "code",
   "execution_count": null,
   "metadata": {},
   "outputs": [],
   "source": []
  },
  {
   "cell_type": "markdown",
   "metadata": {},
   "source": [
    "## 20. Change currency"
   ]
  },
  {
   "cell_type": "markdown",
   "metadata": {},
   "source": [
    "## 21. Weather forcast by Yahoo API"
   ]
  },
  {
   "cell_type": "code",
   "execution_count": null,
   "metadata": {},
   "outputs": [],
   "source": []
  }
 ],
 "metadata": {
  "kernelspec": {
   "display_name": "Python 3",
   "language": "python",
   "name": "python3"
  },
  "language_info": {
   "codemirror_mode": {
    "name": "ipython",
    "version": 3
   },
   "file_extension": ".py",
   "mimetype": "text/x-python",
   "name": "python",
   "nbconvert_exporter": "python",
   "pygments_lexer": "ipython3",
   "version": "3.7.1"
  }
 },
 "nbformat": 4,
 "nbformat_minor": 4
}
